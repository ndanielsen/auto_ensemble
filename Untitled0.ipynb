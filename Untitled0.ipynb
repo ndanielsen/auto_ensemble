{
 "metadata": {
  "name": "",
  "signature": "sha256:30a5d18c3fa42c96f42eb9d5178f243d930807771c855108735e4a1df06232c7"
 },
 "nbformat": 3,
 "nbformat_minor": 0,
 "worksheets": [
  {
   "cells": [
    {
     "cell_type": "code",
     "collapsed": false,
     "input": [
      "import csv\n",
      "import datetime \n",
      "import time\n",
      "\n",
      "\n",
      "import pandas as pd\n",
      "\n",
      "from sklearn import metrics\n",
      "\n",
      "from sklearn.cross_validation import train_test_split\n",
      "from sklearn.cross_validation import cross_val_score\n",
      "\n",
      "from sklearn.feature_extraction.text import CountVectorizer, HashingVectorizer\n",
      "\n",
      "from sklearn.neighbors import KNeighborsClassifier\n",
      "\n",
      "from sklearn.ensemble import RandomForestClassifier\n",
      "from sklearn.ensemble import AdaBoostClassifier\n",
      "from sklearn.ensemble import GradientBoostingClassifier\n",
      "\n",
      "from sklearn.grid_search import GridSearchCV\n",
      "\n",
      "from sklearn.naive_bayes import MultinomialNB\n",
      "\n",
      "from sklearn.preprocessing import StandardScaler"
     ],
     "language": "python",
     "metadata": {},
     "outputs": [],
     "prompt_number": 1
    },
    {
     "cell_type": "code",
     "collapsed": false,
     "input": [
      "\tdef make_features(filename):\n",
      "\t    df = pd.read_csv(filename, index_col=0)\n",
      "\t    df.rename(columns={'OwnerUndeletedAnswerCountAtPostTime':'Answers'}, inplace=True)\n",
      "\t    df['TitleLength'] = df.Title.apply(len)\n",
      "\t    df['BodyLength'] = df.BodyMarkdown.apply(len)\n",
      "\t    df['NumTags'] = df.loc[:, 'Tag1':'Tag5'].notnull().sum(axis=1)\n",
      "\t    return df"
     ],
     "language": "python",
     "metadata": {},
     "outputs": [],
     "prompt_number": 2
    },
    {
     "cell_type": "code",
     "collapsed": false,
     "input": [
      "data = 'fixtures/train.csv'"
     ],
     "language": "python",
     "metadata": {},
     "outputs": [],
     "prompt_number": 3
    },
    {
     "cell_type": "code",
     "collapsed": false,
     "input": [
      "df = make_features(data)\n"
     ],
     "language": "python",
     "metadata": {},
     "outputs": [],
     "prompt_number": 156
    },
    {
     "cell_type": "code",
     "collapsed": false,
     "input": [
      "df.columns"
     ],
     "language": "python",
     "metadata": {},
     "outputs": [
      {
       "metadata": {},
       "output_type": "pyout",
       "prompt_number": 157,
       "text": [
        "Index([u'PostId', u'PostCreationDate', u'OwnerUserId', u'OwnerCreationDate',\n",
        "       u'ReputationAtPostCreation', u'Answers', u'Title', u'BodyMarkdown',\n",
        "       u'Tag1', u'Tag2', u'Tag3', u'Tag4', u'Tag5', u'PostClosedDate',\n",
        "       u'OpenStatus', u'TitleLength', u'BodyLength', u'NumTags'],\n",
        "      dtype='object')"
       ]
      }
     ],
     "prompt_number": 157
    },
    {
     "cell_type": "code",
     "collapsed": false,
     "input": [
      "df.head(2)\n",
      "\n",
      "\n"
     ],
     "language": "python",
     "metadata": {},
     "outputs": [
      {
       "html": [
        "<div style=\"max-height:1000px;max-width:1500px;overflow:auto;\">\n",
        "<table border=\"1\" class=\"dataframe\">\n",
        "  <thead>\n",
        "    <tr style=\"text-align: right;\">\n",
        "      <th></th>\n",
        "      <th>PostId</th>\n",
        "      <th>PostCreationDate</th>\n",
        "      <th>OwnerUserId</th>\n",
        "      <th>OwnerCreationDate</th>\n",
        "      <th>ReputationAtPostCreation</th>\n",
        "      <th>Answers</th>\n",
        "      <th>Title</th>\n",
        "      <th>BodyMarkdown</th>\n",
        "      <th>Tag1</th>\n",
        "      <th>Tag2</th>\n",
        "      <th>Tag3</th>\n",
        "      <th>Tag4</th>\n",
        "      <th>Tag5</th>\n",
        "      <th>PostClosedDate</th>\n",
        "      <th>OpenStatus</th>\n",
        "      <th>TitleLength</th>\n",
        "      <th>BodyLength</th>\n",
        "      <th>NumTags</th>\n",
        "      <th>Tags</th>\n",
        "    </tr>\n",
        "  </thead>\n",
        "  <tbody>\n",
        "    <tr>\n",
        "      <th>0</th>\n",
        "      <td>6046168</td>\n",
        "      <td>05/18/2011 14:14:05</td>\n",
        "      <td>543315</td>\n",
        "      <td>09/17/2010 10:15:06</td>\n",
        "      <td>1</td>\n",
        "      <td>2</td>\n",
        "      <td>For Mongodb is it better to reference an objec...</td>\n",
        "      <td>I am building a corpus of indexed sentences in...</td>\n",
        "      <td>mongodb</td>\n",
        "      <td>NaN</td>\n",
        "      <td>NaN</td>\n",
        "      <td>NaN</td>\n",
        "      <td>NaN</td>\n",
        "      <td>NaN</td>\n",
        "      <td>1</td>\n",
        "      <td>76</td>\n",
        "      <td>504</td>\n",
        "      <td>1</td>\n",
        "      <td>mongodb</td>\n",
        "    </tr>\n",
        "    <tr>\n",
        "      <th>1</th>\n",
        "      <td>4873911</td>\n",
        "      <td>02/02/2011 11:30:10</td>\n",
        "      <td>465076</td>\n",
        "      <td>10/03/2010 09:30:58</td>\n",
        "      <td>192</td>\n",
        "      <td>24</td>\n",
        "      <td>How to insert schemalocation in a xml document...</td>\n",
        "      <td>i create a xml document with JAXP and search a...</td>\n",
        "      <td>dom</td>\n",
        "      <td>xsd</td>\n",
        "      <td>jaxp</td>\n",
        "      <td>NaN</td>\n",
        "      <td>NaN</td>\n",
        "      <td>NaN</td>\n",
        "      <td>1</td>\n",
        "      <td>54</td>\n",
        "      <td>957</td>\n",
        "      <td>3</td>\n",
        "      <td>dom</td>\n",
        "    </tr>\n",
        "  </tbody>\n",
        "</table>\n",
        "</div>"
       ],
       "metadata": {},
       "output_type": "pyout",
       "prompt_number": 166,
       "text": [
        "    PostId     PostCreationDate  OwnerUserId    OwnerCreationDate  \\\n",
        "0  6046168  05/18/2011 14:14:05       543315  09/17/2010 10:15:06   \n",
        "1  4873911  02/02/2011 11:30:10       465076  10/03/2010 09:30:58   \n",
        "\n",
        "   ReputationAtPostCreation  Answers  \\\n",
        "0                         1        2   \n",
        "1                       192       24   \n",
        "\n",
        "                                               Title  \\\n",
        "0  For Mongodb is it better to reference an objec...   \n",
        "1  How to insert schemalocation in a xml document...   \n",
        "\n",
        "                                        BodyMarkdown     Tag1 Tag2  Tag3 Tag4  \\\n",
        "0  I am building a corpus of indexed sentences in...  mongodb  NaN   NaN  NaN   \n",
        "1  i create a xml document with JAXP and search a...      dom  xsd  jaxp  NaN   \n",
        "\n",
        "  Tag5 PostClosedDate  OpenStatus  TitleLength  BodyLength  NumTags     Tags  \n",
        "0  NaN            NaN           1           76         504        1  mongodb  \n",
        "1  NaN            NaN           1           54         957        3      dom  "
       ]
      }
     ],
     "prompt_number": 166
    },
    {
     "cell_type": "code",
     "collapsed": false,
     "input": [
      "df.loc[:, 'Tag1': 'Tag5'].columns"
     ],
     "language": "python",
     "metadata": {},
     "outputs": [
      {
       "metadata": {},
       "output_type": "pyout",
       "prompt_number": 177,
       "text": [
        "Index([u'Tag1', u'Tag2', u'Tag3', u'Tag4', u'Tag5'], dtype='object')"
       ]
      }
     ],
     "prompt_number": 177
    },
    {
     "cell_type": "code",
     "collapsed": false,
     "input": [],
     "language": "python",
     "metadata": {},
     "outputs": [],
     "prompt_number": 105
    },
    {
     "cell_type": "code",
     "collapsed": false,
     "input": [
      "df['Tags'] = df[\"Tag1\"] #+ ' ' + df[\"Tag2\"] + ' ' + df[\"Tag3\"] +' ' + df[\"Tag4\"]"
     ],
     "language": "python",
     "metadata": {},
     "outputs": [],
     "prompt_number": 164
    },
    {
     "cell_type": "code",
     "collapsed": false,
     "input": [
      "df.Tags"
     ],
     "language": "python",
     "metadata": {},
     "outputs": [
      {
       "metadata": {},
       "output_type": "pyout",
       "prompt_number": 165,
       "text": [
        "0                      mongodb\n",
        "1                          dom\n",
        "2                   sql-server\n",
        "3                          php\n",
        "4                      mongodb\n",
        "5                       jquery\n",
        "6                        regex\n",
        "7                          c++\n",
        "8              silverlight-4.0\n",
        "9                           vb\n",
        "10              eclipse-plugin\n",
        "11                       shell\n",
        "12                    codegear\n",
        "13                  javascript\n",
        "14                          c#\n",
        "15                         gwt\n",
        "16                   animation\n",
        "17                          c#\n",
        "18                        ios5\n",
        "19                      python\n",
        "20             windows-phone-7\n",
        "21                   algorithm\n",
        "22                       linux\n",
        "23                          c#\n",
        "24                    facebook\n",
        "25                        json\n",
        "26                     android\n",
        "27                     android\n",
        "28                         c++\n",
        "29                  javascript\n",
        "                  ...         \n",
        "140242                    php5\n",
        "140243                  jquery\n",
        "140244                      c#\n",
        "140245             open-source\n",
        "140246                    java\n",
        "140247                     php\n",
        "140248                  jquery\n",
        "140249                     c++\n",
        "140250                    java\n",
        "140251                    java\n",
        "140252                 android\n",
        "140253                      c#\n",
        "140254                    html\n",
        "140255    software-engineering\n",
        "140256                     c++\n",
        "140257                     wpf\n",
        "140258                 freebsd\n",
        "140259              javascript\n",
        "140260                      c#\n",
        "140261                     c++\n",
        "140262                assembly\n",
        "140263                      c#\n",
        "140264                     php\n",
        "140265                  python\n",
        "140266                    java\n",
        "140267       bitwise-operators\n",
        "140268                   mysql\n",
        "140269                 asp.net\n",
        "140270                    html\n",
        "140271                     php\n",
        "Name: Tags, dtype: object"
       ]
      }
     ],
     "prompt_number": 165
    },
    {
     "cell_type": "code",
     "collapsed": false,
     "input": [],
     "language": "python",
     "metadata": {},
     "outputs": [],
     "prompt_number": 105
    },
    {
     "cell_type": "code",
     "collapsed": false,
     "input": [],
     "language": "python",
     "metadata": {},
     "outputs": [],
     "prompt_number": 105
    },
    {
     "cell_type": "code",
     "collapsed": false,
     "input": [],
     "language": "python",
     "metadata": {},
     "outputs": []
    },
    {
     "cell_type": "code",
     "collapsed": false,
     "input": [],
     "language": "python",
     "metadata": {},
     "outputs": [],
     "prompt_number": 80
    },
    {
     "cell_type": "code",
     "collapsed": false,
     "input": [
      "X = concat([df['Tag1'], df['Tag2']])\n",
      "y = df.OpenStatus"
     ],
     "language": "python",
     "metadata": {},
     "outputs": [
      {
       "ename": "NameError",
       "evalue": "name 'concat' is not defined",
       "output_type": "pyerr",
       "traceback": [
        "\u001b[1;31m---------------------------------------------------------------------------\u001b[0m\n\u001b[1;31mNameError\u001b[0m                                 Traceback (most recent call last)",
        "\u001b[1;32m<ipython-input-148-059c6b974651>\u001b[0m in \u001b[0;36m<module>\u001b[1;34m()\u001b[0m\n\u001b[1;32m----> 1\u001b[1;33m \u001b[0mX\u001b[0m \u001b[1;33m=\u001b[0m \u001b[0mconcat\u001b[0m\u001b[1;33m(\u001b[0m\u001b[1;33m[\u001b[0m\u001b[0mdf\u001b[0m\u001b[1;33m[\u001b[0m\u001b[1;34m'Tag1'\u001b[0m\u001b[1;33m]\u001b[0m\u001b[1;33m,\u001b[0m \u001b[0mdf\u001b[0m\u001b[1;33m[\u001b[0m\u001b[1;34m'Tag2'\u001b[0m\u001b[1;33m]\u001b[0m\u001b[1;33m]\u001b[0m\u001b[1;33m)\u001b[0m\u001b[1;33m\u001b[0m\u001b[0m\n\u001b[0m\u001b[0;32m      2\u001b[0m \u001b[0my\u001b[0m \u001b[1;33m=\u001b[0m \u001b[0mdf\u001b[0m\u001b[1;33m.\u001b[0m\u001b[0mOpenStatus\u001b[0m\u001b[1;33m\u001b[0m\u001b[0m\n",
        "\u001b[1;31mNameError\u001b[0m: name 'concat' is not defined"
       ]
      }
     ],
     "prompt_number": 148
    },
    {
     "cell_type": "code",
     "collapsed": false,
     "input": [
      "X.values"
     ],
     "language": "python",
     "metadata": {},
     "outputs": [
      {
       "metadata": {},
       "output_type": "pyout",
       "prompt_number": 138,
       "text": [
        "array([['mongodb', 'None'],\n",
        "       ['dom', 'xsd'],\n",
        "       ['sql-server', 'database-design'],\n",
        "       ..., \n",
        "       ['asp.net', 'None'],\n",
        "       ['html', 'copy'],\n",
        "       ['php', 'content-management-system']], dtype=object)"
       ]
      }
     ],
     "prompt_number": 138
    },
    {
     "cell_type": "code",
     "collapsed": false,
     "input": [
      "vect = CountVectorizer(ngram_range=(1, 1), stop_words='english' )"
     ],
     "language": "python",
     "metadata": {},
     "outputs": [],
     "prompt_number": 139
    },
    {
     "cell_type": "code",
     "collapsed": false,
     "input": [
      "counts = vect.fit_transform(X)"
     ],
     "language": "python",
     "metadata": {},
     "outputs": [],
     "prompt_number": 140
    },
    {
     "cell_type": "code",
     "collapsed": false,
     "input": [
      "counts"
     ],
     "language": "python",
     "metadata": {},
     "outputs": [
      {
       "metadata": {},
       "output_type": "pyout",
       "prompt_number": 141,
       "text": [
        "<2x2 sparse matrix of type '<type 'numpy.int64'>'\n",
        "\twith 2 stored elements in Compressed Sparse Row format>"
       ]
      }
     ],
     "prompt_number": 141
    },
    {
     "cell_type": "code",
     "collapsed": false,
     "input": [],
     "language": "python",
     "metadata": {},
     "outputs": [],
     "prompt_number": 141
    },
    {
     "cell_type": "code",
     "collapsed": false,
     "input": [
      "counts.shape"
     ],
     "language": "python",
     "metadata": {},
     "outputs": [
      {
       "metadata": {},
       "output_type": "pyout",
       "prompt_number": 142,
       "text": [
        "(2, 2)"
       ]
      }
     ],
     "prompt_number": 142
    },
    {
     "cell_type": "code",
     "collapsed": false,
     "input": [
      "y.shape"
     ],
     "language": "python",
     "metadata": {},
     "outputs": [
      {
       "metadata": {},
       "output_type": "pyout",
       "prompt_number": 143,
       "text": [
        "(140272,)"
       ]
      }
     ],
     "prompt_number": 143
    },
    {
     "cell_type": "code",
     "collapsed": false,
     "input": [
      "nb = MultinomialNB()\n",
      "# nb.fit(counts, y)"
     ],
     "language": "python",
     "metadata": {},
     "outputs": [],
     "prompt_number": 144
    },
    {
     "cell_type": "code",
     "collapsed": false,
     "input": [
      "scores = cross_val_score(nb, counts, y, cv=3, scoring='log_loss')"
     ],
     "language": "python",
     "metadata": {},
     "outputs": [
      {
       "ename": "ValueError",
       "evalue": "Found arrays with inconsistent numbers of samples: [     2 140272]",
       "output_type": "pyerr",
       "traceback": [
        "\u001b[1;31m---------------------------------------------------------------------------\u001b[0m\n\u001b[1;31mValueError\u001b[0m                                Traceback (most recent call last)",
        "\u001b[1;32m<ipython-input-145-51dc2f310080>\u001b[0m in \u001b[0;36m<module>\u001b[1;34m()\u001b[0m\n\u001b[1;32m----> 1\u001b[1;33m \u001b[0mscores\u001b[0m \u001b[1;33m=\u001b[0m \u001b[0mcross_val_score\u001b[0m\u001b[1;33m(\u001b[0m\u001b[0mnb\u001b[0m\u001b[1;33m,\u001b[0m \u001b[0mcounts\u001b[0m\u001b[1;33m,\u001b[0m \u001b[0my\u001b[0m\u001b[1;33m,\u001b[0m \u001b[0mcv\u001b[0m\u001b[1;33m=\u001b[0m\u001b[1;36m3\u001b[0m\u001b[1;33m,\u001b[0m \u001b[0mscoring\u001b[0m\u001b[1;33m=\u001b[0m\u001b[1;34m'log_loss'\u001b[0m\u001b[1;33m)\u001b[0m\u001b[1;33m\u001b[0m\u001b[0m\n\u001b[0m",
        "\u001b[1;32m/home/nathan/.virtualenvs/auto_ensemble/lib/python2.7/site-packages/sklearn/cross_validation.pyc\u001b[0m in \u001b[0;36mcross_val_score\u001b[1;34m(estimator, X, y, scoring, cv, n_jobs, verbose, fit_params, pre_dispatch)\u001b[0m\n\u001b[0;32m   1348\u001b[0m         \u001b[0mArray\u001b[0m \u001b[0mof\u001b[0m \u001b[0mscores\u001b[0m \u001b[0mof\u001b[0m \u001b[0mthe\u001b[0m \u001b[0mestimator\u001b[0m \u001b[1;32mfor\u001b[0m \u001b[0meach\u001b[0m \u001b[0mrun\u001b[0m \u001b[0mof\u001b[0m \u001b[0mthe\u001b[0m \u001b[0mcross\u001b[0m \u001b[0mvalidation\u001b[0m\u001b[1;33m.\u001b[0m\u001b[1;33m\u001b[0m\u001b[0m\n\u001b[0;32m   1349\u001b[0m     \"\"\"\n\u001b[1;32m-> 1350\u001b[1;33m     \u001b[0mX\u001b[0m\u001b[1;33m,\u001b[0m \u001b[0my\u001b[0m \u001b[1;33m=\u001b[0m \u001b[0mindexable\u001b[0m\u001b[1;33m(\u001b[0m\u001b[0mX\u001b[0m\u001b[1;33m,\u001b[0m \u001b[0my\u001b[0m\u001b[1;33m)\u001b[0m\u001b[1;33m\u001b[0m\u001b[0m\n\u001b[0m\u001b[0;32m   1351\u001b[0m \u001b[1;33m\u001b[0m\u001b[0m\n\u001b[0;32m   1352\u001b[0m     \u001b[0mcv\u001b[0m \u001b[1;33m=\u001b[0m \u001b[0m_check_cv\u001b[0m\u001b[1;33m(\u001b[0m\u001b[0mcv\u001b[0m\u001b[1;33m,\u001b[0m \u001b[0mX\u001b[0m\u001b[1;33m,\u001b[0m \u001b[0my\u001b[0m\u001b[1;33m,\u001b[0m \u001b[0mclassifier\u001b[0m\u001b[1;33m=\u001b[0m\u001b[0mis_classifier\u001b[0m\u001b[1;33m(\u001b[0m\u001b[0mestimator\u001b[0m\u001b[1;33m)\u001b[0m\u001b[1;33m)\u001b[0m\u001b[1;33m\u001b[0m\u001b[0m\n",
        "\u001b[1;32m/home/nathan/.virtualenvs/auto_ensemble/lib/python2.7/site-packages/sklearn/utils/validation.pyc\u001b[0m in \u001b[0;36mindexable\u001b[1;34m(*iterables)\u001b[0m\n\u001b[0;32m    197\u001b[0m         \u001b[1;32melse\u001b[0m\u001b[1;33m:\u001b[0m\u001b[1;33m\u001b[0m\u001b[0m\n\u001b[0;32m    198\u001b[0m             \u001b[0mresult\u001b[0m\u001b[1;33m.\u001b[0m\u001b[0mappend\u001b[0m\u001b[1;33m(\u001b[0m\u001b[0mnp\u001b[0m\u001b[1;33m.\u001b[0m\u001b[0marray\u001b[0m\u001b[1;33m(\u001b[0m\u001b[0mX\u001b[0m\u001b[1;33m)\u001b[0m\u001b[1;33m)\u001b[0m\u001b[1;33m\u001b[0m\u001b[0m\n\u001b[1;32m--> 199\u001b[1;33m     \u001b[0mcheck_consistent_length\u001b[0m\u001b[1;33m(\u001b[0m\u001b[1;33m*\u001b[0m\u001b[0mresult\u001b[0m\u001b[1;33m)\u001b[0m\u001b[1;33m\u001b[0m\u001b[0m\n\u001b[0m\u001b[0;32m    200\u001b[0m     \u001b[1;32mreturn\u001b[0m \u001b[0mresult\u001b[0m\u001b[1;33m\u001b[0m\u001b[0m\n\u001b[0;32m    201\u001b[0m \u001b[1;33m\u001b[0m\u001b[0m\n",
        "\u001b[1;32m/home/nathan/.virtualenvs/auto_ensemble/lib/python2.7/site-packages/sklearn/utils/validation.pyc\u001b[0m in \u001b[0;36mcheck_consistent_length\u001b[1;34m(*arrays)\u001b[0m\n\u001b[0;32m    172\u001b[0m     \u001b[1;32mif\u001b[0m \u001b[0mlen\u001b[0m\u001b[1;33m(\u001b[0m\u001b[0muniques\u001b[0m\u001b[1;33m)\u001b[0m \u001b[1;33m>\u001b[0m \u001b[1;36m1\u001b[0m\u001b[1;33m:\u001b[0m\u001b[1;33m\u001b[0m\u001b[0m\n\u001b[0;32m    173\u001b[0m         raise ValueError(\"Found arrays with inconsistent numbers of samples: \"\n\u001b[1;32m--> 174\u001b[1;33m                          \"%s\" % str(uniques))\n\u001b[0m\u001b[0;32m    175\u001b[0m \u001b[1;33m\u001b[0m\u001b[0m\n\u001b[0;32m    176\u001b[0m \u001b[1;33m\u001b[0m\u001b[0m\n",
        "\u001b[1;31mValueError\u001b[0m: Found arrays with inconsistent numbers of samples: [     2 140272]"
       ]
      }
     ],
     "prompt_number": 145
    },
    {
     "cell_type": "code",
     "collapsed": false,
     "input": [
      "scores.mean()"
     ],
     "language": "python",
     "metadata": {},
     "outputs": []
    },
    {
     "cell_type": "code",
     "collapsed": false,
     "input": [],
     "language": "python",
     "metadata": {},
     "outputs": []
    }
   ],
   "metadata": {}
  }
 ]
}