{
 "metadata": {
  "name": "",
  "signature": "sha256:b1f4ffe3105d4325601db5be2e1c7bdb352090da6f3bcad66604381cc18c06ad"
 },
 "nbformat": 3,
 "nbformat_minor": 0,
 "worksheets": [
  {
   "cells": [
    {
     "cell_type": "code",
     "collapsed": false,
     "input": [
      "\n",
      "\n",
      "\n",
      "import csv\n",
      "import datetime \n",
      "import time\n",
      "\n",
      "from textblob import TextBlob\n",
      "\n",
      "from numpy import arange\n",
      "\n",
      "import pandas as pd\n",
      "\n",
      "from sklearn import metrics\n",
      "\n",
      "from sklearn.cross_validation import train_test_split\n",
      "from sklearn.cross_validation import cross_val_score\n",
      "\n",
      "from sklearn.feature_extraction.text import CountVectorizer, HashingVectorizer\n",
      "from sklearn.feature_extraction.text import TfidfTransformer\n",
      "\n",
      "from sklearn.linear_model import LogisticRegression\n",
      "\n",
      "from sklearn.neighbors import KNeighborsClassifier\n",
      "\n",
      "from sklearn.ensemble import RandomForestClassifier\n",
      "from sklearn.ensemble import AdaBoostClassifier\n",
      "from sklearn.ensemble import GradientBoostingClassifier\n",
      "\n",
      "from sklearn.grid_search import GridSearchCV\n",
      "\n",
      "from sklearn.naive_bayes import MultinomialNB\n",
      "\n",
      "from sklearn.naive_bayes import BernoulliNB\n",
      "\n",
      "from sklearn.pipeline import make_pipeline\n",
      "\n",
      "from sklearn.preprocessing import StandardScaler"
     ],
     "language": "python",
     "metadata": {},
     "outputs": [],
     "prompt_number": 252
    },
    {
     "cell_type": "code",
     "collapsed": false,
     "input": [
      "\tdef make_features(filename):\n",
      "\t    df = pd.read_csv(filename, index_col=0)\n",
      "\t    df.rename(columns={'OwnerUndeletedAnswerCountAtPostTime':'Answers'}, inplace=True)\n",
      "\t    df['TitleLength'] = df.Title.apply(len)\n",
      "\t    df['BodyLength'] = df.BodyMarkdown.apply(len)\n",
      "\t    df['NumTags'] = df.loc[:, 'Tag1':'Tag5'].notnull().sum(axis=1)\n",
      "\t    return df"
     ],
     "language": "python",
     "metadata": {},
     "outputs": [],
     "prompt_number": 253
    },
    {
     "cell_type": "code",
     "collapsed": false,
     "input": [
      "data = 'fixtures/train.csv'\n",
      "data2 = 'fixtures/test.csv'"
     ],
     "language": "python",
     "metadata": {},
     "outputs": [],
     "prompt_number": 254
    },
    {
     "cell_type": "code",
     "collapsed": false,
     "input": [
      "df = make_features(data)\n",
      "X_test = make_features(data2)"
     ],
     "language": "python",
     "metadata": {},
     "outputs": [],
     "prompt_number": 255
    },
    {
     "cell_type": "code",
     "collapsed": false,
     "input": [
      "df.columns"
     ],
     "language": "python",
     "metadata": {},
     "outputs": [
      {
       "metadata": {},
       "output_type": "pyout",
       "prompt_number": 256,
       "text": [
        "Index([u'PostId', u'PostCreationDate', u'OwnerUserId', u'OwnerCreationDate',\n",
        "       u'ReputationAtPostCreation', u'Answers', u'Title', u'BodyMarkdown',\n",
        "       u'Tag1', u'Tag2', u'Tag3', u'Tag4', u'Tag5', u'PostClosedDate',\n",
        "       u'OpenStatus', u'TitleLength', u'BodyLength', u'NumTags'],\n",
        "      dtype='object')"
       ]
      }
     ],
     "prompt_number": 256
    },
    {
     "cell_type": "code",
     "collapsed": false,
     "input": [
      "df.head(2)\n",
      "\n",
      "\n"
     ],
     "language": "python",
     "metadata": {},
     "outputs": [
      {
       "html": [
        "<div style=\"max-height:1000px;max-width:1500px;overflow:auto;\">\n",
        "<table border=\"1\" class=\"dataframe\">\n",
        "  <thead>\n",
        "    <tr style=\"text-align: right;\">\n",
        "      <th></th>\n",
        "      <th>PostId</th>\n",
        "      <th>PostCreationDate</th>\n",
        "      <th>OwnerUserId</th>\n",
        "      <th>OwnerCreationDate</th>\n",
        "      <th>ReputationAtPostCreation</th>\n",
        "      <th>Answers</th>\n",
        "      <th>Title</th>\n",
        "      <th>BodyMarkdown</th>\n",
        "      <th>Tag1</th>\n",
        "      <th>Tag2</th>\n",
        "      <th>Tag3</th>\n",
        "      <th>Tag4</th>\n",
        "      <th>Tag5</th>\n",
        "      <th>PostClosedDate</th>\n",
        "      <th>OpenStatus</th>\n",
        "      <th>TitleLength</th>\n",
        "      <th>BodyLength</th>\n",
        "      <th>NumTags</th>\n",
        "    </tr>\n",
        "  </thead>\n",
        "  <tbody>\n",
        "    <tr>\n",
        "      <th>0</th>\n",
        "      <td>6046168</td>\n",
        "      <td>05/18/2011 14:14:05</td>\n",
        "      <td>543315</td>\n",
        "      <td>09/17/2010 10:15:06</td>\n",
        "      <td>1</td>\n",
        "      <td>2</td>\n",
        "      <td>For Mongodb is it better to reference an objec...</td>\n",
        "      <td>I am building a corpus of indexed sentences in...</td>\n",
        "      <td>mongodb</td>\n",
        "      <td>NaN</td>\n",
        "      <td>NaN</td>\n",
        "      <td>NaN</td>\n",
        "      <td>NaN</td>\n",
        "      <td>NaN</td>\n",
        "      <td>1</td>\n",
        "      <td>76</td>\n",
        "      <td>504</td>\n",
        "      <td>1</td>\n",
        "    </tr>\n",
        "    <tr>\n",
        "      <th>1</th>\n",
        "      <td>4873911</td>\n",
        "      <td>02/02/2011 11:30:10</td>\n",
        "      <td>465076</td>\n",
        "      <td>10/03/2010 09:30:58</td>\n",
        "      <td>192</td>\n",
        "      <td>24</td>\n",
        "      <td>How to insert schemalocation in a xml document...</td>\n",
        "      <td>i create a xml document with JAXP and search a...</td>\n",
        "      <td>dom</td>\n",
        "      <td>xsd</td>\n",
        "      <td>jaxp</td>\n",
        "      <td>NaN</td>\n",
        "      <td>NaN</td>\n",
        "      <td>NaN</td>\n",
        "      <td>1</td>\n",
        "      <td>54</td>\n",
        "      <td>957</td>\n",
        "      <td>3</td>\n",
        "    </tr>\n",
        "  </tbody>\n",
        "</table>\n",
        "</div>"
       ],
       "metadata": {},
       "output_type": "pyout",
       "prompt_number": 257,
       "text": [
        "    PostId     PostCreationDate  OwnerUserId    OwnerCreationDate  \\\n",
        "0  6046168  05/18/2011 14:14:05       543315  09/17/2010 10:15:06   \n",
        "1  4873911  02/02/2011 11:30:10       465076  10/03/2010 09:30:58   \n",
        "\n",
        "   ReputationAtPostCreation  Answers  \\\n",
        "0                         1        2   \n",
        "1                       192       24   \n",
        "\n",
        "                                               Title  \\\n",
        "0  For Mongodb is it better to reference an objec...   \n",
        "1  How to insert schemalocation in a xml document...   \n",
        "\n",
        "                                        BodyMarkdown     Tag1 Tag2  Tag3 Tag4  \\\n",
        "0  I am building a corpus of indexed sentences in...  mongodb  NaN   NaN  NaN   \n",
        "1  i create a xml document with JAXP and search a...      dom  xsd  jaxp  NaN   \n",
        "\n",
        "  Tag5 PostClosedDate  OpenStatus  TitleLength  BodyLength  NumTags  \n",
        "0  NaN            NaN           1           76         504        1  \n",
        "1  NaN            NaN           1           54         957        3  "
       ]
      }
     ],
     "prompt_number": 257
    },
    {
     "cell_type": "code",
     "collapsed": false,
     "input": [
      "df.loc[:, 'Tag1': 'Tag5'].columns"
     ],
     "language": "python",
     "metadata": {},
     "outputs": [
      {
       "metadata": {},
       "output_type": "pyout",
       "prompt_number": 258,
       "text": [
        "Index([u'Tag1', u'Tag2', u'Tag3', u'Tag4', u'Tag5'], dtype='object')"
       ]
      }
     ],
     "prompt_number": 258
    },
    {
     "cell_type": "code",
     "collapsed": false,
     "input": [],
     "language": "python",
     "metadata": {},
     "outputs": [],
     "prompt_number": 258
    },
    {
     "cell_type": "code",
     "collapsed": false,
     "input": [],
     "language": "python",
     "metadata": {},
     "outputs": [],
     "prompt_number": 258
    },
    {
     "cell_type": "code",
     "collapsed": false,
     "input": [],
     "language": "python",
     "metadata": {},
     "outputs": [],
     "prompt_number": 258
    },
    {
     "cell_type": "code",
     "collapsed": false,
     "input": [],
     "language": "python",
     "metadata": {},
     "outputs": [],
     "prompt_number": 258
    },
    {
     "cell_type": "code",
     "collapsed": false,
     "input": [],
     "language": "python",
     "metadata": {},
     "outputs": [],
     "prompt_number": 258
    },
    {
     "cell_type": "code",
     "collapsed": false,
     "input": [],
     "language": "python",
     "metadata": {},
     "outputs": [],
     "prompt_number": 258
    },
    {
     "cell_type": "code",
     "collapsed": false,
     "input": [],
     "language": "python",
     "metadata": {},
     "outputs": [],
     "prompt_number": 258
    },
    {
     "cell_type": "code",
     "collapsed": false,
     "input": [
      "X = df.Title\n",
      "y = df.OpenStatus"
     ],
     "language": "python",
     "metadata": {},
     "outputs": [],
     "prompt_number": 259
    },
    {
     "cell_type": "code",
     "collapsed": false,
     "input": [],
     "language": "python",
     "metadata": {},
     "outputs": [],
     "prompt_number": 259
    },
    {
     "cell_type": "code",
     "collapsed": false,
     "input": [
      "vect = CountVectorizer(ngram_range=(1, 1), stop_words='english' )"
     ],
     "language": "python",
     "metadata": {},
     "outputs": [],
     "prompt_number": 260
    },
    {
     "cell_type": "code",
     "collapsed": false,
     "input": [
      "counts = vect.fit_transform(X)"
     ],
     "language": "python",
     "metadata": {},
     "outputs": [],
     "prompt_number": 261
    },
    {
     "cell_type": "code",
     "collapsed": false,
     "input": [],
     "language": "python",
     "metadata": {},
     "outputs": [],
     "prompt_number": 261
    },
    {
     "cell_type": "code",
     "collapsed": false,
     "input": [],
     "language": "python",
     "metadata": {},
     "outputs": [],
     "prompt_number": 261
    },
    {
     "cell_type": "code",
     "collapsed": false,
     "input": [
      "counts.shape"
     ],
     "language": "python",
     "metadata": {},
     "outputs": [
      {
       "metadata": {},
       "output_type": "pyout",
       "prompt_number": 262,
       "text": [
        "(140272, 39347)"
       ]
      }
     ],
     "prompt_number": 262
    },
    {
     "cell_type": "code",
     "collapsed": false,
     "input": [
      "y.shape"
     ],
     "language": "python",
     "metadata": {},
     "outputs": [
      {
       "metadata": {},
       "output_type": "pyout",
       "prompt_number": 263,
       "text": [
        "(140272,)"
       ]
      }
     ],
     "prompt_number": 263
    },
    {
     "cell_type": "code",
     "collapsed": false,
     "input": [
      "from sklearn.pipeline import make_pipeline\n",
      "from sklearn.linear_model import LogisticRegression"
     ],
     "language": "python",
     "metadata": {},
     "outputs": [],
     "prompt_number": 264
    },
    {
     "cell_type": "code",
     "collapsed": false,
     "input": [],
     "language": "python",
     "metadata": {},
     "outputs": [],
     "prompt_number": 264
    },
    {
     "cell_type": "code",
     "collapsed": false,
     "input": [
      "y_pred = [0 for elem in range(0, 73290)]\n",
      "count_models = 0"
     ],
     "language": "python",
     "metadata": {},
     "outputs": [],
     "prompt_number": 267
    },
    {
     "cell_type": "code",
     "collapsed": false,
     "input": [
      "cname = 'logisticregression'\n",
      "pipe = make_pipeline(CountVectorizer(ngram_range=(1, 1), stop_words='english'), \n",
      "    LogisticRegression())\n",
      "\n",
      "c_range = arange(.1, .5, .1)\n",
      "p_options = ['l2']#, 'l1']\n",
      "param_grid = dict(logisticregression__C=c_range, logisticregression__penalty=p_options)\n",
      "grid = GridSearchCV(pipe, param_grid, cv=5, scoring='log_loss')\n",
      "grid.fit(X, y)\t\t\n",
      "\n",
      "print grid.best_params_\n",
      "\n"
     ],
     "language": "python",
     "metadata": {},
     "outputs": [
      {
       "output_type": "stream",
       "stream": "stdout",
       "text": [
        "{'logisticregression__penalty': 'l2', 'logisticregression__C': 0.40000000000000002}\n"
       ]
      }
     ],
     "prompt_number": 268
    },
    {
     "cell_type": "code",
     "collapsed": false,
     "input": [
      "y_pred += grid.predict_proba(X_test['Title'])[:, 1]\n",
      "count_models += 1"
     ],
     "language": "python",
     "metadata": {},
     "outputs": []
    },
    {
     "cell_type": "code",
     "collapsed": false,
     "input": [
      "def pickler(model=None, name=None, feature_cols=None):\n",
      "    pickle_file = 'models/' + name + '_' + feature_cols + '.pickle'\n",
      "    with open(pickle_file, \"w+\") as fp:\n",
      "        pickle.dump(model.best_estimator_, fp)"
     ],
     "language": "python",
     "metadata": {},
     "outputs": [],
     "prompt_number": 272
    },
    {
     "cell_type": "code",
     "collapsed": false,
     "input": [
      "pickler(model=grid, name=cname, feature_cols='Title')"
     ],
     "language": "python",
     "metadata": {},
     "outputs": [],
     "prompt_number": 273
    },
    {
     "cell_type": "code",
     "collapsed": false,
     "input": [
      "def pickle_loader(self, model=None, name=None, feature_cols=None):\n",
      "    pickle_file = 'models/' + name + '_' + feature_cols + '.pickle'\n",
      "    if os.path.isfile(pickle_file):\n",
      "        with open(pickle_file, \"r\") as fp: \t#Load model from file\n",
      "            grid.best_estimator_ = pickle.load(fp)\n",
      "            return grid.best_estimator_\n",
      "    else:\n",
      "        print 'Ok'"
     ],
     "language": "python",
     "metadata": {},
     "outputs": [],
     "prompt_number": 276
    },
    {
     "cell_type": "code",
     "collapsed": false,
     "input": [
      "pickle_loader(model=grid, name=cname, feature_cols='Title')"
     ],
     "language": "python",
     "metadata": {},
     "outputs": [
      {
       "ename": "TypeError",
       "evalue": "pickle_loader() got an unexpected keyword argument 'model'",
       "output_type": "pyerr",
       "traceback": [
        "\u001b[1;31m---------------------------------------------------------------------------\u001b[0m\n\u001b[1;31mTypeError\u001b[0m                                 Traceback (most recent call last)",
        "\u001b[1;32m<ipython-input-279-e10cb48ce16b>\u001b[0m in \u001b[0;36m<module>\u001b[1;34m()\u001b[0m\n\u001b[1;32m----> 1\u001b[1;33m \u001b[0mpickle_loader\u001b[0m\u001b[1;33m(\u001b[0m\u001b[0mmodel\u001b[0m\u001b[1;33m=\u001b[0m\u001b[0mgrid\u001b[0m\u001b[1;33m,\u001b[0m \u001b[0mname\u001b[0m\u001b[1;33m=\u001b[0m\u001b[0mcname\u001b[0m\u001b[1;33m,\u001b[0m \u001b[0mfeature_cols\u001b[0m\u001b[1;33m=\u001b[0m\u001b[1;34m'Title'\u001b[0m\u001b[1;33m)\u001b[0m\u001b[1;33m\u001b[0m\u001b[0m\n\u001b[0m",
        "\u001b[1;31mTypeError\u001b[0m: pickle_loader() got an unexpected keyword argument 'model'"
       ]
      }
     ],
     "prompt_number": 279
    },
    {
     "cell_type": "code",
     "collapsed": false,
     "input": [],
     "language": "python",
     "metadata": {},
     "outputs": [],
     "prompt_number": 268
    },
    {
     "cell_type": "code",
     "collapsed": false,
     "input": [],
     "language": "python",
     "metadata": {},
     "outputs": []
    },
    {
     "cell_type": "code",
     "collapsed": false,
     "input": [
      "y_pred / count_models"
     ],
     "language": "python",
     "metadata": {},
     "outputs": []
    },
    {
     "cell_type": "code",
     "collapsed": false,
     "input": [
      "len(y_pred)"
     ],
     "language": "python",
     "metadata": {},
     "outputs": []
    },
    {
     "cell_type": "code",
     "collapsed": false,
     "input": [
      "y_pred"
     ],
     "language": "python",
     "metadata": {},
     "outputs": []
    },
    {
     "cell_type": "code",
     "collapsed": false,
     "input": [
      "len([0 for elem in range(0, X_test.shape[0])])"
     ],
     "language": "python",
     "metadata": {},
     "outputs": []
    },
    {
     "cell_type": "code",
     "collapsed": false,
     "input": [
      "cname = 'randomforest'\n",
      "max_range = range(1, 5)\n",
      "n_ests = range(1, 5)\n",
      "\n",
      "pipe = make_pipeline(\n",
      "    StandardScaler(), \n",
      "    RandomForestClassifier())\n",
      "\n",
      "param_grid = dict(randomforestclassifier__max_features=max_range, randomforestclassifier__n_estimators=n_ests)\n",
      "\n",
      "grid = GridSearchCV(pipe, param_grid, cv=5, scoring='log_loss')\n",
      "\n",
      "newdf = df[['PostId','ReputationAtPostCreation', 'Answers', 'TitleLength', 'BodyLength', 'NumTags']]\n",
      "grid.fit(newdf, y)\t\t\n",
      "\n",
      "print grid.best_params_\n",
      "\n",
      "\n",
      "\n",
      "\n",
      "\n",
      "\n",
      "\n",
      "\n",
      "\n",
      "\n",
      "\n",
      "\n",
      "\n",
      "\n"
     ],
     "language": "python",
     "metadata": {},
     "outputs": []
    },
    {
     "cell_type": "code",
     "collapsed": false,
     "input": [
      "score = round(grid.best_score_, 4)\n",
      "cname = 'text_logisticregression'\n",
      "\n",
      "score"
     ],
     "language": "python",
     "metadata": {},
     "outputs": [
      {
       "metadata": {},
       "output_type": "pyout",
       "prompt_number": 247,
       "text": [
        "-3.2993"
       ]
      }
     ],
     "prompt_number": 247
    },
    {
     "cell_type": "code",
     "collapsed": false,
     "input": [
      "import pickle\n",
      "\n",
      "pickle_file = 'models/' + cname + 'model.pickle'\n",
      "\n",
      "\n",
      "# Fit model and pickle fitted model\n",
      "with open(pickle_file, \"w+\") as fp:\n",
      "    pickle.dump(grid.best_estimator_, fp)\n",
      "\n",
      "# # Load model from file\n",
      "# with open('/model/path/model_pickle_file', \"r\") as fp:\n",
      "#     grid_search_load = pickle.load(fp)\n",
      "\n",
      "# # Predict new data with model loaded from disk\n",
      "# y_new = grid_search_load.best_estimator_.predict(X_new)"
     ],
     "language": "python",
     "metadata": {},
     "outputs": [],
     "prompt_number": 251
    },
    {
     "cell_type": "code",
     "collapsed": false,
     "input": [
      "-0.56938364473647118 > -0.6"
     ],
     "language": "python",
     "metadata": {},
     "outputs": [
      {
       "metadata": {},
       "output_type": "pyout",
       "prompt_number": 240,
       "text": [
        "True"
       ]
      }
     ],
     "prompt_number": 240
    },
    {
     "cell_type": "code",
     "collapsed": false,
     "input": [
      "pickle_file"
     ],
     "language": "python",
     "metadata": {},
     "outputs": [
      {
       "ename": "NameError",
       "evalue": "name 'pickle_file' is not defined",
       "output_type": "pyerr",
       "traceback": [
        "\u001b[1;31m---------------------------------------------------------------------------\u001b[0m\n\u001b[1;31mNameError\u001b[0m                                 Traceback (most recent call last)",
        "\u001b[1;32m<ipython-input-243-a8f44ebd3414>\u001b[0m in \u001b[0;36m<module>\u001b[1;34m()\u001b[0m\n\u001b[1;32m----> 1\u001b[1;33m \u001b[0mpickle_file\u001b[0m\u001b[1;33m\u001b[0m\u001b[0m\n\u001b[0m",
        "\u001b[1;31mNameError\u001b[0m: name 'pickle_file' is not defined"
       ]
      }
     ],
     "prompt_number": 243
    },
    {
     "cell_type": "code",
     "collapsed": false,
     "input": [],
     "language": "python",
     "metadata": {},
     "outputs": []
    }
   ],
   "metadata": {}
  }
 ]
}